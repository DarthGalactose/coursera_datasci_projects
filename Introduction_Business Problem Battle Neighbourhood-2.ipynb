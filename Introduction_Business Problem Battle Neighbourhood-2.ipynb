{
 "cells": [
  {
   "cell_type": "markdown",
   "metadata": {
    "collapsed": true
   },
   "source": [
    "# Introduction / Business Problem"
   ]
  },
  {
   "attachments": {},
   "cell_type": "markdown",
   "metadata": {},
   "source": [
    "Using the Toronto API Data from Foursquare Inc, we will be looking at the borough of Downtown Toronto (or any other desired borough)\n",
    "\n",
    "The problem: As a bustling city, Downtown Toronto is full of places and things to see. As a tourist or a new resident, it can be overwhelming very quickly. Using this foursquare API data along with borough and the neighbourhood we are in, we can determine the most common types of venues and their exact location on a map\n",
    "Trying to determine:\n",
    "1. Determine the most common type of venue in downtown Toronto\n",
    "2. Determine what is the most common type of cuisine in Downtown Toronto based on neighbour"
   ]
  },
  {
   "attachments": {},
   "cell_type": "markdown",
   "metadata": {},
   "source": [
    "# Target Population\n",
    "\n",
    "New residents and tourists of Toronto, Canada\n",
    "Traveling business people looking to find the types of food and venues near them"
   ]
  },
  {
   "cell_type": "markdown",
   "metadata": {},
   "source": [
    "# Data Section"
   ]
  },
  {
   "attachments": {},
   "cell_type": "markdown",
   "metadata": {},
   "source": [
    "Data: https://en.wikipedia.org/wiki/List_of_postal_codes_of_Canada:_M\n",
    "Foursquare API Developer Data\n",
    "Focus on Downtown Toronto"
   ]
  },
  {
   "cell_type": "code",
   "execution_count": null,
   "metadata": {},
   "outputs": [],
   "source": []
  }
 ],
 "metadata": {
  "kernelspec": {
   "display_name": "Python 3.7",
   "language": "python",
   "name": "python3"
  },
  "language_info": {
   "codemirror_mode": {
    "name": "ipython",
    "version": 3
   },
   "file_extension": ".py",
   "mimetype": "text/x-python",
   "name": "python",
   "nbconvert_exporter": "python",
   "pygments_lexer": "ipython3",
   "version": "3.7.10"
  }
 },
 "nbformat": 4,
 "nbformat_minor": 1
}
